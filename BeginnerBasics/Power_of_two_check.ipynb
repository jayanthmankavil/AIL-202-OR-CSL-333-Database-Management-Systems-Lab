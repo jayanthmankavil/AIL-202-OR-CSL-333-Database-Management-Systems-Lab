{
  "nbformat": 4,
  "nbformat_minor": 0,
  "metadata": {
    "colab": {
      "provenance": [],
      "authorship_tag": "ABX9TyPzE/bKmmqJqFfRrJJXC+wF",
      "include_colab_link": true
    },
    "kernelspec": {
      "name": "python3",
      "display_name": "Python 3"
    },
    "language_info": {
      "name": "python"
    }
  },
  "cells": [
    {
      "cell_type": "markdown",
      "metadata": {
        "id": "view-in-github",
        "colab_type": "text"
      },
      "source": [
        "<a href=\"https://colab.research.google.com/github/jayanthmankavil/AIL-202-OR-CSL-333-Database-Management-Systems-Lab/blob/main/BeginnerBasics/Power_of_two_check.ipynb\" target=\"_parent\"><img src=\"https://colab.research.google.com/assets/colab-badge.svg\" alt=\"Open In Colab\"/></a>"
      ]
    },
    {
      "cell_type": "code",
      "execution_count": 1,
      "metadata": {
        "colab": {
          "base_uri": "https://localhost:8080/"
        },
        "id": "udvwTh-R3CIU",
        "outputId": "d0c5d070-af9a-4c77-b887-f71a15864734"
      },
      "outputs": [
        {
          "output_type": "stream",
          "name": "stdout",
          "text": [
            "Enter a number: 1024\n",
            "1024 is a power of two.\n"
          ]
        }
      ],
      "source": [
        "def is_power_of_two(n):\n",
        "    \"\"\"Return True if n is a power of two.\"\"\"\n",
        "    if n <= 0:\n",
        "        return False\n",
        "    else:\n",
        "        return n & (n - 1) == 0\n",
        " \n",
        " \n",
        "n = int(input('Enter a number: '))\n",
        " \n",
        "if is_power_of_two(n):\n",
        "    print('{} is a power of two.'.format(n))\n",
        "else:\n",
        "    print('{} is not a power of two.'.format(n))"
      ]
    }
  ]
}