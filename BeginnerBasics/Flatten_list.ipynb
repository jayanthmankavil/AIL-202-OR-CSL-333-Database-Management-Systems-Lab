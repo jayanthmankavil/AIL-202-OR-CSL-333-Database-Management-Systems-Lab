{
  "nbformat": 4,
  "nbformat_minor": 0,
  "metadata": {
    "colab": {
      "provenance": [],
      "authorship_tag": "ABX9TyMyCu8Rxgsy5+Crj8vcGwKh",
      "include_colab_link": true
    },
    "kernelspec": {
      "name": "python3",
      "display_name": "Python 3"
    },
    "language_info": {
      "name": "python"
    }
  },
  "cells": [
    {
      "cell_type": "markdown",
      "metadata": {
        "id": "view-in-github",
        "colab_type": "text"
      },
      "source": [
        "<a href=\"https://colab.research.google.com/github/jayanthmankavil/AIL-202-OR-CSL-333-Database-Management-Systems-Lab/blob/main/BeginnerBasics/Flatten_list.ipynb\" target=\"_parent\"><img src=\"https://colab.research.google.com/assets/colab-badge.svg\" alt=\"Open In Colab\"/></a>"
      ]
    },
    {
      "cell_type": "code",
      "execution_count": 1,
      "metadata": {
        "colab": {
          "base_uri": "https://localhost:8080/"
        },
        "id": "6LrNh_0FE0OF",
        "outputId": "7fdca51f-12e5-4666-deb8-b76f00524389"
      },
      "outputs": [
        {
          "output_type": "stream",
          "name": "stdout",
          "text": [
            "[1, 2, 3, 4, 5]\n"
          ]
        }
      ],
      "source": [
        "a=[[1,[[2]],[[[3]]]],[[4],5]]\n",
        "flatten=lambda l: sum(map(flatten,l),[]) if isinstance(l,list) else [l]\n",
        "print(flatten(a))"
      ]
    }
  ]
}