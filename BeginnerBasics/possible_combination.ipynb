{
  "nbformat": 4,
  "nbformat_minor": 0,
  "metadata": {
    "colab": {
      "provenance": [],
      "authorship_tag": "ABX9TyMs43FskfWrd2C4ybbDY7dD",
      "include_colab_link": true
    },
    "kernelspec": {
      "name": "python3",
      "display_name": "Python 3"
    },
    "language_info": {
      "name": "python"
    }
  },
  "cells": [
    {
      "cell_type": "markdown",
      "metadata": {
        "id": "view-in-github",
        "colab_type": "text"
      },
      "source": [
        "<a href=\"https://colab.research.google.com/github/jayanthmankavil/AIL-202-OR-CSL-333-Database-Management-Systems-Lab/blob/main/BeginnerBasics/possible_combination.ipynb\" target=\"_parent\"><img src=\"https://colab.research.google.com/assets/colab-badge.svg\" alt=\"Open In Colab\"/></a>"
      ]
    },
    {
      "cell_type": "code",
      "execution_count": 1,
      "metadata": {
        "colab": {
          "base_uri": "https://localhost:8080/"
        },
        "id": "ztk6s1-xv_5M",
        "outputId": "adef1eba-caa5-4d87-de22-6593a7be715f"
      },
      "outputs": [
        {
          "output_type": "stream",
          "name": "stdout",
          "text": [
            "Enter first number:100\n",
            "Enter second number:101\n",
            "Enter third number:102\n",
            "100 101 102\n",
            "100 102 101\n",
            "101 100 102\n",
            "101 102 100\n",
            "102 100 101\n",
            "102 101 100\n"
          ]
        }
      ],
      "source": [
        "a=int(input(\"Enter first number:\"))\n",
        "b=int(input(\"Enter second number:\"))\n",
        "c=int(input(\"Enter third number:\"))\n",
        "d=[]\n",
        "d.append(a)\n",
        "d.append(b)\n",
        "d.append(c)\n",
        "for i in range(0,3):\n",
        "    for j in range(0,3):\n",
        "        for k in range(0,3):\n",
        "            if(i!=j&j!=k&k!=i):\n",
        "                print(d[i],d[j],d[k])"
      ]
    }
  ]
}